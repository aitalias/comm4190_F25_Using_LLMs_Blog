{
 "cells": [
  {
   "cell_type": "raw",
   "id": "6c8c0c35-7f3b-4f11-963c-d1c15d039a44",
   "metadata": {},
   "source": [
    "---\n",
    "title: \"Fix My Skin\"\n",
    "description: \"Can AI Build Me A Custom Skincare Routine\" \n",
    "author: \"Aitalia Sharpe\"\n",
    "date: \"9/16/2025\"\n",
    "categories:\n",
    "  - LLMs\n",
    "  - Learning\n",
    "---"
   ]
  },
  {
   "cell_type": "markdown",
   "id": "9f6955ff-8a58-408a-a3d3-76921cf363de",
   "metadata": {},
   "source": [
    "![](ss_002.png)"
   ]
  },
  {
   "cell_type": "markdown",
   "id": "e489d1b7-f572-4147-a2f5-2f0902e54615",
   "metadata": {},
   "source": [
    "Skincare remains a trending topic on social media, sparking critique from people of diverse backgrounds. Its popularity has enabled thousands of people to build their own brands by sharing their go-to products and doing brand reviews with company sponsorships. We constantly see public figures deploying new skincare lines, despite there already being a multitude of functional products on the market, yet their products still sell due to their status. I'm curious about how people choose to craft their skincare routines: do they value consistency and predictability, or novelty? I prompted AI to decide what factors most people tend to consider when developing their skin routine, how those considerations change based on age group, and provide a recommendation for my skincare routine based on the products I'm currently using."
   ]
  },
  {
   "cell_type": "markdown",
   "id": "a03fb005-ac0d-4477-8b8e-6edc498177fb",
   "metadata": {},
   "source": [
    "Here's how the conversation went:"
   ]
  },
  {
   "cell_type": "markdown",
   "id": "a3575705-a180-45e2-8e2a-df26572e743e",
   "metadata": {},
   "source": [
    "Me: In two sentences, how do you think social media has influenced people's skincare practices"
   ]
  },
  {
   "cell_type": "markdown",
   "id": "3daa1f61-0f4f-45aa-a5f4-6447369df6f3",
   "metadata": {},
   "source": [
    "Copilot: Social media has amplified skincare trends and product recommendations, often driven by influencers and viral content, making routines more accessible but also more commercialized. It’s also fostered greater awareness of ingredients and skin conditions, encouraging people to research and personalize their skincare choices."
   ]
  },
  {
   "cell_type": "markdown",
   "id": "3ba0cdab-03ce-4d7b-9cda-3d7fac074936",
   "metadata": {},
   "source": [
    "Me: when consumers are choosing products what do you think they pay attention to the most:consistency and predictability, or novelty"
   ]
  },
  {
   "cell_type": "markdown",
   "id": "0b46889b-db69-4362-b4b5-75191c160107",
   "metadata": {},
   "source": [
    "Copilot: It depends on the context—consumers tend to value consistency and predictability when it comes to essentials like skincare, food, or household items, where reliability and trust matter most. But when shopping for fashion, tech, or entertainment, novelty often wins, driven by curiosity, trends, and the desire for something fresh or exciting."
   ]
  },
  {
   "cell_type": "raw",
   "id": "4ab5bb2e-6b08-4ebc-b9c0-a5e04fb9d7db",
   "metadata": {},
   "source": [
    "*I then prompted copilot to provide an estimate of how much weight each characteristic carries when consumers are purchasing skincare products. AI responded with the following chart:*"
   ]
  },
  {
   "cell_type": "markdown",
   "id": "23ce54c1-0ee5-4262-9f09-71b0dc055e0a",
   "metadata": {},
   "source": [
    "![](ss_001.png)"
   ]
  },
  {
   "cell_type": "markdown",
   "id": "cc13927c-9a33-4b43-a4b4-f2401d0742c4",
   "metadata": {},
   "source": [
    "Out of curiosity, I wanted to see what products AI would recommend for my routine based on current trends and the following supplemental information:"
   ]
  },
  {
   "cell_type": "markdown",
   "id": "07130051-b4ec-4f57-8c37-6390e310121a",
   "metadata": {},
   "source": [
    "![](ss_003.png)"
   ]
  },
  {
   "cell_type": "markdown",
   "id": "ebee87ff-9317-4fbe-930b-337b9b0399de",
   "metadata": {},
   "source": [
    "AI recognizes social media's influence on how people perceive skincare and even acknowledges the risk of being misled due to the commercialization of sponsored products. Though audiences require greater awareness of potential false advertisements, social media has enabled the public to grow more aware of what they're putting on their skin while also fostering a sense of unity/community amongst those who have become insecure due to their skin. The majority of people self-treat skin-related issues rather than seeking professional help, and when deciding what to use, AI finds that though the majority of the population values consistency & predictability, Gen Z finds novelty and innovation slightly more favorable. AI was also able to provide me with a custom skincare routine to address some of my problem areas, and like the rest of my generation, I might take its advice."
   ]
  },
  {
   "cell_type": "code",
   "execution_count": null,
   "id": "26e1e73b-40fe-4102-af2c-6a1ace9ae3e4",
   "metadata": {},
   "outputs": [],
   "source": []
  }
 ],
 "metadata": {
  "kernelspec": {
   "display_name": "Python 3-12 (COMM4190)",
   "language": "python",
   "name": "python3-12_comm4190"
  },
  "language_info": {
   "codemirror_mode": {
    "name": "ipython",
    "version": 3
   },
   "file_extension": ".py",
   "mimetype": "text/x-python",
   "name": "python",
   "nbconvert_exporter": "python",
   "pygments_lexer": "ipython3",
   "version": "3.12.11"
  }
 },
 "nbformat": 4,
 "nbformat_minor": 5
}
