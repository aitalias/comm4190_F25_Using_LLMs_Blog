{
 "cells": [
  {
   "cell_type": "markdown",
   "id": "8170bfe8-7bec-45fc-a27b-83d3cbd04435",
   "metadata": {},
   "source": [
    "---\n",
    "title: \"Building VS Angels\"\n",
    "description: \"Can AI design Victoria's Secret Angels representative of the beauty standards of each decade ('90s-pres)?\" \n",
    "author: \"Aitalia Sharpe\"\n",
    "date: \"10/27/2025\"\n",
    "categories:\n",
    "  - LLMs\n",
    "  - Learning\n",
    "---"
   ]
  },
  {
   "cell_type": "markdown",
   "id": "dc4f1d9a-977b-461d-aebb-dd4de8d65adf",
   "metadata": {},
   "source": [
    "The beauty standards for women have always been fickle in the United States. Thin body types have always dominated the tabloids; despite the drastic measures that models, celebrities, and other public figures take to maintain this shape, women of all ages strive to achieve the same look. With the help of social media, the late 2010s-early 2020s showed more appreciation to diverse body shapes, aiming to combat the harsh rhetoric perpetuated throughout earlier decades. This era of of \"body positivity\" helped many women to mend their relationships with food and love their bodies. Brands like Victoria's Secret were condemned for upholding near impossible expectations, and due to the pressures of female audiences began to introduce different body shapes into their catologues, websites, and most notable their annual fashion show. While some appreciated these changes, many found it to be a performative action to resurrect their dying brand, and others were critical, urging them to go back to solely featuring skinny models. Witht he most recent VS Fashion Show having been just a week ago, there is still plenty of discourse about the representation show. Having strayed from their original \"brand\", I'm curious to know how AI would claddify VS' new position. Can AI generate the \"ideal VS Angel\" for each of these decades? How do these images compare to how the average woman actually looks during each of those decades?"
   ]
  },
  {
   "cell_type": "markdown",
   "id": "8ce2f713-a488-4c08-beff-b0c965449824",
   "metadata": {},
   "source": [
    "**prompt**\n",
    "how would you summarize the body standards for women across the past 4 decades (90s-present)\n",
    "\n",
    "**response**\n",
    "1990s: \"Heroin Chic\" & Ultra-Thin\n",
    "Ideal: Extremely thin, waif-like figures with minimal curves.\n",
    "Influences: Supermodels like Kate Moss; grunge fashion; rise of minimalism.\n",
    "Features: Pale skin, visible bones, flat stomachs, and androgynous silhouettes.\n",
    "Cultural tone: Rebellion against the glam of the 80s; edgy, raw, and anti-establishment.\n",
    "\n",
    "💪 2000s: Athletic & Low-Rise Obsession\n",
    "Ideal: Slim but toned bodies with flat abs and visible muscle definition.\n",
    "Influences: Pop stars like Britney Spears and Christina Aguilera; rise of reality TV.\n",
    "Features: Low-rise jeans emphasized hip bones; emphasis on youth and sexual appeal.\n",
    "Cultural tone: Hyper-focus on diet culture, tabloid scrutiny, and celebrity workout routines.\n",
    "\n",
    "🍑 2010s: Curvy & \"Instagram-Ready\"\n",
    "Ideal: Hourglass figures with large busts, tiny waists, and prominent hips and buttocks.\n",
    "Influences: Kim Kardashian, Nicki Minaj, and social media filters.\n",
    "Features: Enhanced curves (often surgically or digitally); contoured makeup and waist trainers.\n",
    "Cultural tone: Rise of influencer culture, body modification, and curated online personas.\n",
    "\n",
    "🌈 2020s: Body Positivity & Diverse Beauty\n",
    "Ideal: More inclusive and varied—celebrating different shapes, sizes, and ethnic features.\n",
    "Influences: Activists, plus-size models, Gen Z aesthetics, and mental health awareness.\n",
    "Features: Acceptance of natural bodies, stretch marks, cellulite, and gender-fluid expression.\n",
    "Cultural tone: Pushback against unrealistic standards; emphasis on authenticity, self-love, and representation\n",
    "\n",
    "**prompt**\n",
    "briefly describe victoria secret's influence on these standards each decades\n",
    "\n",
    "**response**\n",
    "Victoria’s Secret played a major role in shaping and amplifying mainstream beauty ideals from the 1990s through the 2010s, with its influence evolving alongside cultural shifts:\n",
    "\n",
    "👙 1990s: The Rise of the “Angel”\n",
    "Impact: Victoria’s Secret popularized the ultra-thin, tall, leggy supermodel as the pinnacle of femininity.\n",
    "Aesthetic: Glamorous yet unattainable—emphasizing flat stomachs, long limbs, and minimal body fat.\n",
    "\n",
    "💫 2000s: Bombshell Era\n",
    "Impact: The brand leaned into hyper-feminine, overtly sexualized imagery with push-up bras and glossy runway shows.\n",
    "Aesthetic: Slim but curvy—flat abs with enhanced cleavage and toned legs.\n",
    "\n",
    "💥 2010s: Peak Fantasy & Backlash\n",
    "Impact: The annual Victoria’s Secret Fashion Show became a global spectacle, but criticism grew over lack of diversity and unrealistic standards.\n",
    "Aesthetic: Hourglass figures with exaggerated proportions, often enhanced by lighting, editing, and cosmetic procedures.\n",
    "\n",
    "🌱 2020s: Collapse & Reinvention\n",
    "Impact: Facing declining sales and cultural criticism, Victoria’s Secret canceled its fashion show and began rebranding with more inclusive models and messaging.\n",
    "New direction: Featuring athletes, activists, and plus-size models like Paloma Elsesser and Megan Rapinoe.\n",
    "Cultural effect: Acknowledged its role in promoting narrow beauty ideals and is now attempting to align with body positivity and modern feminism.\n",
    "\n",
    "**prompt**\n",
    "create a chart, and on a scale of 1-10, rate how well the representation of women in vs catalogues, clothing sizes, and fashion shows aligned with the beauty standard of that decade\n",
    "\n",
    "![](ss_001.png)"
   ]
  },
  {
   "cell_type": "markdown",
   "id": "99489a58-69fb-465a-8935-06f41723332e",
   "metadata": {},
   "source": [
    "**Victoria's Secret is notorious for perpetuating beauty standards that are near impossible for the average woman to attain, so I wanted to see how the gap in their alignment with realistic female features has changed across those decades.**"
   ]
  },
  {
   "cell_type": "markdown",
   "id": "2211a879-40ab-4529-b616-2de92ca20002",
   "metadata": {},
   "source": [
    "I attempted to have AI generate an image of a typical VS model next to the idealized body type of that decade and received the following response:"
   ]
  },
  {
   "cell_type": "markdown",
   "id": "7614e93b-e431-4262-8908-2cc6bb621fc9",
   "metadata": {},
   "source": [
    "![](ss_002.png)"
   ]
  },
  {
   "cell_type": "markdown",
   "id": "2fdf5422-2817-49b6-b44a-562ce505398a",
   "metadata": {},
   "source": [
    "**prompt**: generate an image that shows a victoria secret model in a fashion show during the 90s, and on the other side, show the average woman (in terms of body size in the us) during the 90s"
   ]
  },
  {
   "cell_type": "markdown",
   "id": "066a872a-487e-483a-95f1-db3da95ab833",
   "metadata": {},
   "source": [
    "When I made the same request for the 00s, 2010s, and 2020s... the LLM responded with the following:"
   ]
  },
  {
   "cell_type": "markdown",
   "id": "add3c8a3-ce93-4afb-8279-31998d510d7e",
   "metadata": {},
   "source": [
    "**response:** I can’t generate that image. It was blocked because it involves potentially sensitive content—likely due to comparing body types in a way that could reinforce stereotypes or unrealistic standards.\n",
    "\n",
    "If you're exploring how beauty ideals have evolved or want to visualize aspirational health and confidence in a more inclusive way, I’d be happy to help reframe the concept. Let me know how you'd like to proceed!"
   ]
  },
  {
   "cell_type": "markdown",
   "id": "edc0dcbc-0f43-4868-bffb-9f94fdf92787",
   "metadata": {},
   "source": [
    "**Perhaps it's because, as time has gone on, society has grown to be more accepting of body types that lie outside of the 1990s standards. I would be curious to see side-by-side igenerated images depicting the \"idealized body types\" of each decade.**"
   ]
  }
 ],
 "metadata": {
  "kernelspec": {
   "display_name": "Python 3-12 (COMM4190)",
   "language": "python",
   "name": "python3-12_comm4190"
  },
  "language_info": {
   "codemirror_mode": {
    "name": "ipython",
    "version": 3
   },
   "file_extension": ".py",
   "mimetype": "text/x-python",
   "name": "python",
   "nbconvert_exporter": "python",
   "pygments_lexer": "ipython3",
   "version": "3.12.12"
  }
 },
 "nbformat": 4,
 "nbformat_minor": 5
}
