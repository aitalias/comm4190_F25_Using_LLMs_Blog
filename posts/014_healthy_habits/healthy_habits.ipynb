{
 "cells": [
  {
   "cell_type": "markdown",
   "id": "83526162-9fa6-457e-a229-f0fbbda3b863",
   "metadata": {},
   "source": [
    "---\n",
    "title: \"I'll Lock In On Monday\"\n",
    "description: \"Using AI to build healthier lifestyle habits\" \n",
    "author: \"Aitalia Sharpe\"\n",
    "date: \"10/09/2025\"\n",
    "categories:\n",
    "  - LLMs\n",
    "  - Learning\n",
    "---"
   ]
  },
  {
   "cell_type": "markdown",
   "id": "26418231-9391-4a2b-a039-619950e82466",
   "metadata": {},
   "source": [
    "![](ss_001.png)"
   ]
  },
  {
   "cell_type": "markdown",
   "id": "4701f340-74f0-46e0-949d-92f5f13dc190",
   "metadata": {},
   "source": [
    "There are numerous eating fads and workout routines available today, thanks to social platforms like YouTube and TikTok. Whenever I see a girl with an idealized physique pop up on my feed, the comments are filled with viewers asking for her gym routine and meal plan, even if the video is completely unrelated. While it's great that people are thinking more consciously about their lifestyle habits, often, their motivations are rooted in aesthetics rather than overall health. Even with inclusive campaigns like the body positivity movement, body image still controls so many people, especially women, and thus, any new behaviors are merely temporary. I want to see if AI can help me uncover the secrets to establishing healthy habits, so that lifestyle changes can be maintained long-term. I'd also like to understand the role of mental health in these processes."
   ]
  },
  {
   "cell_type": "markdown",
   "id": "e2352990-7387-4dd9-94b6-45213dced355",
   "metadata": {},
   "source": [
    "Claude AI identified the following factors as drivers of the shift:\n",
    "\n",
    "- Social Media Algorithms\n",
    "    Increased promotion of \"girl routines\" and \"what I eat in a day\" content\n",
    "- Visibility of GLP-1 drugs (Ozempic, Wegovy)\n",
    "- Economic anxiety\n",
    "    During times of uncertainty, people over-fixate on things they can control, like their bodies\n",
    "- Backlash Fatigue\n",
    "    body positivity themes became corporatized and seemingly performative\n",
    "- Gen Z entering their 20s\n",
    "- Wellness-to-ED Pipeline"
   ]
  },
  {
   "cell_type": "markdown",
   "id": "d7fe2551-b8e4-4356-b2bf-4de5470ad89c",
   "metadata": {},
   "source": [
    "I then prompted AI to consider demographics as contributors to these trends,!"
   ]
  },
  {
   "cell_type": "markdown",
   "id": "1e6acbc2-5f98-493f-a5de-46152698bb0a",
   "metadata": {},
   "source": [
    "![](ss_002.png)"
   ]
  },
  {
   "cell_type": "markdown",
   "id": "b0ba4c1c-80a0-4b8c-b135-1699d595168b",
   "metadata": {},
   "source": [
    "Since more people are beginning to gravitate towards AI as their first source for quick questions about losing weight and changing their diets, how can AI intervene to push healthier habits?"
   ]
  },
  {
   "cell_type": "markdown",
   "id": "ff637e92-0fbe-4240-a1d3-226af8dea12c",
   "metadata": {},
   "source": [
    "1. Personalized health tracking (non-aesthetic)\n",
    "\n",
    " - AI can monitor biomarkers, sleep quality, energy levels, strength gains, mental health indicators\n",
    " - Shift metrics from \"pounds lost\" to \"improved HRV\" or \"better sleep scores\"\n",
    " - **Problem:** Most apps still center weight/appearance\n",
    "\n",
    "2. Conversational AI coaching\n",
    "\n",
    " - Chatbots that challenge distorted thinking patterns (like CBT for EDs)\n",
    " - Catch diet culture language and reframe it (\"I need to be skinny\" →  - \"What's the actual concern here?\")\n",
    " - Provide real-time intervention when users express disordered thoughts\n",
    "\n",
    "3. Content moderation & feed curation\n",
    "\n",
    " - AI can identify and limit thinspo/fitspo content\n",
    " - Deprioritize before/after photos, body checking content\n",
    " - Boost educational health content over transformation content\n",
    " - Currently underused - platforms profit from engagement\n",
    "\n",
    "4. Image recognition for trigger warnings\n",
    "\n",
    " - Flag potentially triggering content (extreme thinness, body checks)\n",
    " - Allow users to filter their feeds proactively\n",
    " - Some tools exist but aren't mainstream\n",
    "\n",
    "5. Personalized education\n",
    "\n",
    " - AI tutors that teach HAES (Health At Every Size) principles\n",
    " - Explain why BMI is flawed, how metabolic health ≠ size\n",
    " - Adapt to user's specific misconceptions\n",
    "\n",
    "6. Pattern recognition in user behavior\n",
    "\n",
    " - Detect early warning signs of disordered eating (obsessive logging, restriction patterns)\n",
    " - Gentle interventions before behaviors escalate\n",
    " - Connect users to resources"
   ]
  },
  {
   "cell_type": "markdown",
   "id": "fc0ab355-0b69-44d3-974d-8a267f7be882",
   "metadata": {},
   "source": [
    "Finally, I was curious about the role that mental health has played in the cyclical nature of diet culture:\n",
    "1. Emotional regulation\n",
    " - Without addressing the root emotion, any habit change feels like deprivation and fails.\n",
    "2. Stress response\n",
    " - Chronic stress elevates cortisol, disrupts sleep, and kills motivation.\n",
    "3. Self-worth baseline\n",
    "    - If you hate yourself, \"healthy habits\" become punishment, which isn't sustainable. Self-compassion predicts long-term success.\n",
    "4. Executive function\n",
    " - Depression and ADHD impair planning, consistency, and follow-through.\n",
    "5. All-or-nothing thinking\n",
    "    - Anxiety breeds perfectionism. Mental flexibility is crucial."
   ]
  }
 ],
 "metadata": {
  "kernelspec": {
   "display_name": "Python 3-12 (COMM4190)",
   "language": "python",
   "name": "python3-12_comm4190"
  },
  "language_info": {
   "codemirror_mode": {
    "name": "ipython",
    "version": 3
   },
   "file_extension": ".py",
   "mimetype": "text/x-python",
   "name": "python",
   "nbconvert_exporter": "python",
   "pygments_lexer": "ipython3",
   "version": "3.12.11"
  }
 },
 "nbformat": 4,
 "nbformat_minor": 5
}
