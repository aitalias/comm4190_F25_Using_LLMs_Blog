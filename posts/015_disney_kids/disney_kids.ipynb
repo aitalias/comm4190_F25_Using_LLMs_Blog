{
 "cells": [
  {
   "cell_type": "markdown",
   "id": "99f9e68d-7ce8-44be-ba6a-3079c8ee87cb",
   "metadata": {},
   "source": [
    "---\n",
    "title: \"Breaking The Disney Kid Curse\"\n",
    "description: \"What's the secret to curating a mature image?\" \n",
    "author: \"Aitalia Sharpe\"\n",
    "date: \"10/09/2025\"\n",
    "categories:\n",
    "  - LLMs\n",
    "  - Learning\n",
    "---"
   ]
  },
  {
   "cell_type": "markdown",
   "id": "4ccfa816-aff4-4a09-b2dd-4e5c0f1b56dc",
   "metadata": {},
   "source": [
    "![](ss_001.png)"
   ]
  },
  {
   "cell_type": "markdown",
   "id": "561dc60d-41c8-44d6-ad1e-1d552a38a24d",
   "metadata": {},
   "source": [
    "I remember when growing up, I wanted to be on TV like all of my favorite stars from Disney Channel and Nickelodeon. I saw being on this network as my launching point and confidently believed that I would grow up to be a world-renowned movie star like Taraji P. Henson or Regina Hall. I no longer want to be a famous Hollywood actor, but I still occasionally find myself looking into the child stars I used to love watching, and am surprised to see that, despite their efforts, many have failed to break into the industry and establish themselves as serious actors. I've seen the term \"Disney Kid Curse\" be used to address this phenomenon; those who've been prominent features on the channel struggle to secure mature roles because the public still sees them as the little kids they were introduced as. I want to see if AI can break down this phenomenon further and explore potential strategic choices that would maximize former Disney kids' chance at achieving longevity as actors in the industry."
   ]
  },
  {
   "cell_type": "markdown",
   "id": "635d26cf-59d1-4f63-aaad-a654fded9754",
   "metadata": {},
   "source": [
    "When I first asked AI about it understanding of the \"Disney Kid Curse\", it focused on the long-term personal issues that some child stars, like Lindsey Lohan, Demi Lovato, and Miley Cyrus, have experienced after becoming adults. "
   ]
  },
  {
   "cell_type": "markdown",
   "id": "c00574bd-9ba2-45c3-ae4e-aa4578b2ff28",
   "metadata": {},
   "source": [
    "Once I clarified, AI revealed that child stars struggle to land more mature roles due to the following:\n",
    "\n",
    " - **Audience rejection** - fans struggle to accept them outside their Disney persona\n",
    " - **Industry skepticism** - casting directors won't consider them for serious dramatic roles\n",
    " - **Box office struggles** - their post-Disney films often underperform"
   ]
  },
  {
   "cell_type": "markdown",
   "id": "90ec2156-000f-4716-983b-c691d5210b91",
   "metadata": {},
   "source": [
    "The audience rejection facet was not surprising to me. In my personal experience on social media, I have often come across child stars' profiles. When they try posting amateur content, comments often refer to them by the name of their character or post popular memes from when they were younger. "
   ]
  },
  {
   "cell_type": "markdown",
   "id": "431ca9da-4b86-4947-85b5-4b15438687b8",
   "metadata": {},
   "source": [
    "I wanted to dive deeper into which of these factors holds the most weight in their downward career trajectories, so I asked AI, \"how do hollywood casting execs deal with a disney kid: do these actors struggle because they attempt to breakout and are rejcted, or do casting agents not even give them the chance?"
   ]
  },
  {
   "cell_type": "markdown",
   "id": "c183ff6c-6382-4da7-9413-f841387c6e11",
   "metadata": {},
   "source": [
    "It's both, but primarily the latter - casting directors often don't even give them a chance.\n",
    "The problem happens at the audition/consideration stage:\n",
    "\n",
    " - **They're not called in** - For serious dramatic roles, casting directors filter Disney Kids out before they can prove themselves.\n",
    " - **Preemptive typecasting** - Execs assume audiences won't buy them in mature roles, so they don't waste time auditioning them. It's a business calculation about box office viability.\n",
    " - **Age demographic mismatch** - Their fanbase skews young, but adult prestige films need audiences who... don't associate them with tween sitcoms.\n",
    "\n",
    "When they do get auditions, it's considered an uphill battle to not only land the role, but to prove to audiences that they have range."
   ]
  },
  {
   "cell_type": "markdown",
   "id": "f5bf414a-2285-4d9d-9968-7de2b029d78e",
   "metadata": {},
   "source": [
    "**I then prompted AI with a hypothetical: \"Pretend I'm Skai Jackson, who starred in the series, 'Jessie', and it is 2015 and the show has just ended. Make me a career plan to establish myself as a mature actress who could ideally reach Zendaya-level stardom.\"**"
   ]
  },
  {
   "cell_type": "markdown",
   "id": "df8124d6-f25b-475f-a1ea-6d42a12eab92",
   "metadata": {},
   "source": [
    "**PHASE 1:** 2015-2017 - Strategic Distance & Credibility Building\n",
    "Immediate (2015-2016):\n",
    "\n",
    "Take a break. No new Disney projects. Let the \"Jessie\" association cool.\n",
    "Hire new representation - Get an agent known for career transformations (CAA/UTA), not Disney-pipeline agents\n",
    "Social media rebrand - Shift from bubbly kid content to thoughtful, socially conscious voice. Show maturity and substance.\n",
    "Target: One prestige indie film - Take a supporting role in a Sundance-type drama. Low pay, high credibility. Think something like The Hate U Give (if you can get in early) or similar coming-of-age with social weight.\n",
    "\n",
    "**2017:**\n",
    "\n",
    "Guest arc on prestige TV - Land a 3-4 episode arc on a critically acclaimed HBO/FX/Netflix drama. Not a lead, but a role that shows range. Think Euphoria-type content before Euphoria existed.\n",
    "\n",
    "\n",
    "**PHASE 2: 2018-2020 - Prove Your Range\n",
    "2018-2019:**\n",
    "\n",
    "Lead in festival indie film - Take the lead in a gritty independent film that premieres at Sundance/Toronto. Something that shows dramatic chops - abuse survivor, activist, complex teen navigating trauma.\n",
    "Awards campaign hustle - Do the festival circuit, press, interviews showing your intelligence and depth\n",
    "Voice work in animated prestige - Something like Spider-Verse - keeps you working, different audience\n",
    "\n",
    "**2020:**\n",
    "\n",
    "Supporting role in studio film - Not the lead yet, but a memorable supporting role in a film with A-list actors. Learn from them, get associated with quality.\n",
    "\n",
    "\n",
    "**PHASE 3: 2021-2023 - The Breakout\n",
    "2021:**\n",
    "\n",
    "Lead in streaming prestige limited series - This is your Euphoria moment. Netflix/HBO limited series (6-8 episodes) where you play a complex, flawed character. Drug addiction, sexuality, moral ambiguity - show you can handle adult themes.\n",
    "\n",
    "**2022-2023:**\n",
    "\n",
    "Studio lead with respected director - You've proven yourself. Now take the lead in a mid-budget ($30-50M) studio film with a respected director. Jordan Peele-type, Barry Jenkins, Greta Gerwig - someone whose name carries weight.\n",
    "Awards consideration - This role should get you nominated (Golden Globe, SAG, maybe Oscar)\n",
    "\n",
    "\n",
    "**PHASE 4: 2024-2025 - Zendaya Territory\n",
    "2024:**\n",
    "\n",
    "Franchise/tentpole - Now you can do blockbuster without being labeled \"just Disney.\" Marvel, DC, or prestige sci-fi like Dune.\n",
    "Fashion deals & brand partnerships - Now that you're credible, luxury brands will come calling\n",
    "\n",
    "**2025:**\n",
    "\n",
    "Producer credit - Start producing projects that interest you. Creative control = longevity"
   ]
  },
  {
   "cell_type": "markdown",
   "id": "eb37e3bf-2185-474a-b33c-01546c795e31",
   "metadata": {},
   "source": [
    "**I wonder if this plan would prove successful if the next generation of Disney Kids were to follow it!**"
   ]
  }
 ],
 "metadata": {
  "kernelspec": {
   "display_name": "Python 3-12 (COMM4190)",
   "language": "python",
   "name": "python3-12_comm4190"
  },
  "language_info": {
   "codemirror_mode": {
    "name": "ipython",
    "version": 3
   },
   "file_extension": ".py",
   "mimetype": "text/x-python",
   "name": "python",
   "nbconvert_exporter": "python",
   "pygments_lexer": "ipython3",
   "version": "3.12.11"
  }
 },
 "nbformat": 4,
 "nbformat_minor": 5
}
