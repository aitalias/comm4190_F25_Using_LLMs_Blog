{
 "cells": [
  {
   "cell_type": "markdown",
   "id": "892867da-140e-4977-9c7d-1b166fe32d81",
   "metadata": {},
   "source": [
    "---\n",
    "title: \"Combatting Illiteracy\"\n",
    "description: \"Why are younger generations struggling with literacy? Can AI intervene?\" \n",
    "author: \"Aitalia Sharpe\"\n",
    "date: \"10/17/2025\"\n",
    "categories:\n",
    "  - LLMs\n",
    "  - Learning\n",
    "---"
   ]
  },
  {
   "cell_type": "markdown",
   "id": "36c54d4a-5c36-4fd3-8340-449bc1d32ac6",
   "metadata": {},
   "source": [
    "![](ss_001.png)"
   ]
  },
  {
   "cell_type": "markdown",
   "id": "403df91b-e773-43b2-8c8e-ea80f7fe2cbe",
   "metadata": {},
   "source": [
    "I have a younger sister and younger cousin who, during their K-2nd-grade years, I would frequently help as they were learning to read. I'd look at the drills they were given, and most of the work was focused on memorizing sight words. I've seen similar trends discussed by parents on TikTok, revealing that early education language arts curricula have strayed towards memorization and away from phonics, which is fundamental to understanding how letter sounds work together to form words. Upon conducting further research, I was dumbfounded to learn that 60% of Americans are functionally illiterate. How can we revise curricula to maintain modernity without losing concepts that are foundational to advanced learning, and how can AI help?"
   ]
  },
  {
   "cell_type": "markdown",
   "id": "8a15e329-c58b-4cee-9dc2-c71cd00ac4e3",
   "metadata": {},
   "source": [
    "When prompted for statistics about literacy rates in America and where they lie in comparison, AI shared the following:\n",
    "\n",
    " - 54% of adults have literacy skills below a sixth-grade level\n",
    " - The literacy rate has decreased nearly 10 points since 2017\n",
    " - Average literacy scores of U.S. adults were lower in 2023 than in 2017\n",
    "\n",
    "Economic Impact:\n",
    "Low literacy levels cost the U.S. up to $2.2 trillion per year"
   ]
  },
  {
   "cell_type": "markdown",
   "id": "2c5ee6ea-e1c4-43c5-b594-2605999054dc",
   "metadata": {},
   "source": [
    "![](ss_002.png)"
   ]
  },
  {
   "cell_type": "markdown",
   "id": "3c59aaf6-1486-454b-8708-accaed42fdae",
   "metadata": {},
   "source": [
    "**The Gap: There's a 24-point difference between the U.S. and Japan, the highest-scoring country**"
   ]
  },
  {
   "cell_type": "markdown",
   "id": "3555ceb2-417e-40b0-9dc3-76fd0c0fec3d",
   "metadata": {},
   "source": [
    "I was intrigued by the drastic drop in scores between 2017 and 2023 and was curious to know what factors may have contributed:\n",
    "\n",
    "1. **Increased Screen Time and Digital Distractions**\n",
    "    - The shift toward smartphones, social media, and short-form content has reduced time spent on sustained reading.\n",
    "    - Americans are reading less deeply and for shorter periods, which weakens comprehension and critical thinking skills.\n",
    "3. **Pandemic-Related Learning Loss**\n",
    "    - COVID-19 school closures created significant educational disruptions, particularly for younger students during critical literacy development years.\n",
    "    - Remote learning was less effective for teaching foundational reading skills, and many students haven't fully recovered.\n",
    "4. **Inadequate Reading Instruction Methods**\n",
    "    - Many schools moved away from phonics-based instruction in favor of other approaches that haven't proven as effective.\n",
    "    - The \"reading wars\" between different pedagogical methods has left some students without solid foundational skills.\n",
    "5. **Socioeconomic Disparities**\n",
    "    - Poverty, limited access to books at home, underfunded schools in low-income areas, and lack of early childhood education all create barriers to literacy development.\n",
    "6. **Declining Reading Culture**\n",
    "    - There's been a broader cultural shift away from reading for pleasure.\n",
    "    - Fewer families prioritize reading at home, libraries face funding cuts, and competing entertainment options have made reading seem less appealing, especially to young people."
   ]
  },
  {
   "cell_type": "markdown",
   "id": "91242b74-d03d-468c-afca-0996f3b3de95",
   "metadata": {},
   "source": [
    "**Since AI is progressively becoming more integrated into our culture as a tool for formal and casual learning, I wanted to see if AI could build 2 plans to refocus literacy into curriculums.**\n",
    "\n",
    "**Plan 1: Early Education Reading Introduction (Pre-K through Grade 2)**\n",
    "1. Foundation Phase: Pre-K to Kindergarten\n",
    "    - Phonological Awareness (Daily, 10-15 minutes)\n",
    "        - Teach children to hear and manipulate sounds in words through rhyming games, syllable clapping, and sound isolation activities\n",
    "        (Use songs, poems, and word play to make sound recognition engaging and natural)\n",
    "    - Letter-Sound Correspondence\n",
    "        - Introduce letters systematically with their sounds, starting with the most common and useful letters\n",
    "        (Use multisensory approaches: tracing letters, building them with materials, associating them with pictures and actions)\n",
    "    - Oral Language Development\n",
    "        - Read aloud daily to build vocabulary and comprehension\n",
    "        - Engage children in rich conversations, asking open-ended questions\n",
    "        - Teach new words explicitly in context\n",
    "2. Building Phase: Grades K-1\n",
    "    - Systematic Phonics Instruction\n",
    "        - Teach decoding skills in a clear, sequential order (not incidentally)\n",
    "    - Fluency Development\n",
    "        - Use repeated reading of appropriate-level texts\n",
    "        - Model expressive reading and have children echo\n",
    "    - Comprehension Strategies\n",
    "        - Teach children to predict, visualize, and ask questions while reading\n",
    "        - Make connections between texts and their own experiences\n",
    "3. Reinforcement Phase: Grades 1-2\n",
    "    - Independent Reading Time\n",
    "        - Provide daily time for reading books at the child's independent level\n",
    "        - Build a classroom library with diverse, engaging texts\n",
    "4. Writing Integration\n",
    "5. Assessment and Intervention\n",
    "\n",
    "\n",
    "**Plan 2: Middle School Illiteracy Intervention (Grades 6-8)**\n",
    "1. Immediate Assessment and Diagnosis\n",
    "2. Design targeted intervention based on specific gaps identified\n",
    "    - Establish a supportive, judgment-free environment that addresses shame and anxiety\n",
    "    - Set up progress monitoring system with weekly check-ins\n",
    "3. Intensive Foundational Intervention\n",
    "    - Use accelerated phonics programs designed for older students (not elementary materials)\n",
    "    - Teach morphology (prefixes, suffixes, roots) to help decode complex words\n",
    "4. Fluency Building\n",
    "    - Practice repeated reading with texts the student cares about\n",
    "    - Focus on phrase reading and expression, not just speed\n",
    "5. Build Reading Stamina Gradually\n",
    "    - Start with very short reading sessions (10-15 minutes) and gradually increase\n",
    "    - Connect reading to students' goals (career interests, hobbies, social life)\n",
    "6. Academic Accommodation and Support\n",
    "7. Social-Emotional Support\n",
    "    - Build relationships—students need to trust the adults helping them\n",
    "8. Family and Community Engagement"
   ]
  }
 ],
 "metadata": {
  "kernelspec": {
   "display_name": "Python 3-12 (COMM4190)",
   "language": "python",
   "name": "python3-12_comm4190"
  },
  "language_info": {
   "codemirror_mode": {
    "name": "ipython",
    "version": 3
   },
   "file_extension": ".py",
   "mimetype": "text/x-python",
   "name": "python",
   "nbconvert_exporter": "python",
   "pygments_lexer": "ipython3",
   "version": "3.12.11"
  }
 },
 "nbformat": 4,
 "nbformat_minor": 5
}
