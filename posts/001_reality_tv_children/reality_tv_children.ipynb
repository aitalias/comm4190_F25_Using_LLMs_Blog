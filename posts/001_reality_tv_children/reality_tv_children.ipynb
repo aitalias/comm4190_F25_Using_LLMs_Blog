{
 "cells": [
  {
   "cell_type": "raw",
   "id": "a9d629da-0c39-4388-a112-72341dd66b64",
   "metadata": {},
   "source": [
    "---\n",
    "title: \"It's Just TV\"\n",
    "description: \"Evaluating the Health of the Reality TV Environment on Children\" \n",
    "author: \"Aitalia Sharpe\"\n",
    "date: \"9/9/2025\"\n",
    "categories:\n",
    "  - LLMs\n",
    "  - Learning\n",
    "---"
   ]
  },
  {
   "cell_type": "markdown",
   "id": "c5fe4b5c-8211-47a2-b385-96dd7338a345",
   "metadata": {},
   "source": [
    "I grew up watching reality shows like Dance Moms and Bring It! Both shows focus on a group of about 7 young girls who travel and dance competitively every week. While viewers get to watch the girls compete and grow in their craft, a large portion of each episode revolves around the drama between their competitive moms, all of whom desire that their child be the star of their studio. I enjoyed watching the drama when I was younger to the point where I would pick my favorite dancer and mom and pick sides during their arguments. However, rewatching these shows at an older age, I realize the potential damage done to each child's psychological health as a result of growing up in such hectic, hostile environments. The general public tends to argue that, though both shows put the girls in stressful situations due to all of the travel and new choreography that they have to juggle on top of school, the girls featured on Dance Moms had worse experiences than those on Bring It! I wanted to see if AI would be able to form an opinion on the environments of each show and conclude whether or not reality TV in general could be considered a safe environment for children."
   ]
  },
  {
   "cell_type": "markdown",
   "id": "a8c4708f-9d33-4380-a9ec-4bfb51604220",
   "metadata": {},
   "source": [
    "Chat GPT was able to identify differences in the structure of each show, causing one to have produce more harmful outcomes for the young cast members. For bith shows, the competitive stress that caused the children to value perfection over performance and over-bearing schedule of being featured on reality tv were primary stressors for the children on both shows. However, AI identified the coaching styles as a distinguishing factor. The coach of dance moms placed intense pressure on the girls and promoted internal competition between teammates that viewers joined in on, leading dancers less favored to be heavily scrutinized by the public. The coach of Bring it, on the other hand, promoted community through mentorship. By not dividing the team, her leadership style enticed the viewing audience to root for the team as a whole. Bring It was decided ot be an overall healthier environment compared to Dance Moms because it fostered growth rather than stifling emotional development. When asked to generalize, AI concluded that reality tv is not a safe environment for children because of the immense pressure and lack of protection against public scrutiny."
   ]
  }
 ],
 "metadata": {
  "kernelspec": {
   "display_name": "Python 3-12 (COMM4190)",
   "language": "python",
   "name": "python3-12_comm4190"
  },
  "language_info": {
   "codemirror_mode": {
    "name": "ipython",
    "version": 3
   },
   "file_extension": ".py",
   "mimetype": "text/x-python",
   "name": "python",
   "nbconvert_exporter": "python",
   "pygments_lexer": "ipython3",
   "version": "3.12.11"
  }
 },
 "nbformat": 4,
 "nbformat_minor": 5
}
