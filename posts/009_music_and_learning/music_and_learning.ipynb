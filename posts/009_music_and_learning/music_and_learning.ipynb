{
 "cells": [
  {
   "cell_type": "markdown",
   "id": "bac46b07-afa4-4ce7-bdb9-bc2eff656cf3",
   "metadata": {},
   "source": [
    "---\n",
    "title: \"Beethoven or Beyoncé\"\n",
    "description: \"How Does Music Genre Affect Learning Capabilities?\" \n",
    "author: \"Aitalia Sharpe\"\n",
    "date: \"9/26/2025\"\n",
    "categories:\n",
    "  - LLMs\n",
    "  - Learning\n",
    "---"
   ]
  },
  {
   "cell_type": "markdown",
   "id": "b9f9662f-d579-4e81-8182-57a99739bfab",
   "metadata": {},
   "source": [
    "\"Mozart made my baby smarter.\" \"I learn better when I listen to music.\" There is plenty of discourse surrounding the efficacy of music as a supportive tool for learning. Some sources argue that listening to classical music does in fact support brain function and retention of learning content, yet most young people turn to other genres such as pop, rap, or R&B  while doing tasks. Do the alternative beats and inclusion of lyrics make these genres distracting when trying to learn or do they still have some facilitate learning to some degree?"
   ]
  },
  {
   "cell_type": "raw",
   "id": "7b7e961d-5e33-466e-820b-54589826b1a0",
   "metadata": {},
   "source": [
    "When evaluating how music affect, AI came to the following conclusions:\n",
    "\n",
    "Avoid Lyrics for Language-Based Tasks: Music with lyrics can interfere with reading comprehension or writing.\n",
    "Tempo Matters: Medium tempos (~60–80 bpm) tend to be most conducive to studying.\n",
    "Volume Is Key: Keep music at a lower volume to avoid overwhelming the brain.\n",
    "Know Yourself: Some people thrive with background music, while others need silence to focus. Tailor your study environment to your preferences."
   ]
  },
  {
   "cell_type": "markdown",
   "id": "ff35cd8a-88ba-4cdc-8176-73183254250b",
   "metadata": {},
   "source": [
    "I wanted an estimate of how much information could be retained when listening to differrent genres of music and if the subject changes that nunmber..."
   ]
  },
  {
   "cell_type": "markdown",
   "id": "bb7f29f9-c7ca-40a0-9d38-5c72d94c21e4",
   "metadata": {},
   "source": [
    "![](ss_001.png)"
   ]
  },
  {
   "cell_type": "markdown",
   "id": "d85040a0-55f4-4e8d-993c-a108ace33e88",
   "metadata": {},
   "source": [
    "Overall, Classical music proved to be the best choice for retaining information, while pop, rock, and rap appear to be distracting. So next time you're studying, consider listening to Symphony No. 9 instead if Drunk In Love"
   ]
  }
 ],
 "metadata": {
  "kernelspec": {
   "display_name": "Python 3-12 (COMM4190)",
   "language": "python",
   "name": "python3-12_comm4190"
  },
  "language_info": {
   "codemirror_mode": {
    "name": "ipython",
    "version": 3
   },
   "file_extension": ".py",
   "mimetype": "text/x-python",
   "name": "python",
   "nbconvert_exporter": "python",
   "pygments_lexer": "ipython3",
   "version": "3.12.11"
  }
 },
 "nbformat": 4,
 "nbformat_minor": 5
}
