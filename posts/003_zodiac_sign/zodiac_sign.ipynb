{
 "cells": [
  {
   "cell_type": "raw",
   "id": "f6670add-8ebb-431d-873f-1c6929fe5090",
   "metadata": {},
   "source": [
    "---\n",
    "title: \"What's My Zodiac\"\n",
    "description: \"Can AI Guess My Zodiac Sign With Just 10 Questions\" \n",
    "author: \"Aitalia Sharpe\"\n",
    "date: \"9/10/2025\"\n",
    "categories:\n",
    "  - LLMs\n",
    "  - Learning\n",
    "---"
   ]
  },
  {
   "cell_type": "markdown",
   "id": "e3f5462c-4d82-432a-90b5-521fac01e1d1",
   "metadata": {},
   "source": [
    "Growing up, my friends and I would take Buzzfeed quizzes to see which TV characters we were most like, which aesthetic fits us, what our personality types were, etc. These quizzes always set questions that used facts like our favorite foods and musical artists to produce an answer, but now that AI can come up with new introspective questions on the spot, I thought it would be fun if, using my answers to questions it comes up with, AI would be able to accurately guess my zodiac sign. I gave 2 different platforms the same prompt to see what kind of questions I got. Though the zodiac sign is a fun, light-hearted concept to test, some people use AI to figure out potential career paths and to make big decisions, so seeing the type of questions AI asks provides insight into how it uses context to respond to users."
   ]
  },
  {
   "cell_type": "markdown",
   "id": "5401bcc6-6a8e-46c3-b533-8b74a056eec8",
   "metadata": {},
   "source": [
    "![](ss_003_1.png)"
   ]
  },
  {
   "cell_type": "markdown",
   "id": "aa37a356-f98a-46c2-906e-8b2fc793800b",
   "metadata": {},
   "source": [
    "![](ss_003_2.png)"
   ]
  },
  {
   "cell_type": "markdown",
   "id": "7ebd020b-2b56-4e04-9129-32f56f8896c7",
   "metadata": {},
   "source": [
    "![](ss_003_3.png)"
   ]
  },
  {
   "cell_type": "markdown",
   "id": "54d08b21-18af-4c8c-9af9-dfc8a2dd0412",
   "metadata": {},
   "source": [
    "![](ss_003_4.png)"
   ]
  },
  {
   "cell_type": "markdown",
   "id": "469d135a-db81-4b1f-bf0c-296d9109bcd4",
   "metadata": {},
   "source": [
    "![](ss_003_5.png)"
   ]
  },
  {
   "cell_type": "markdown",
   "id": "a088931c-39cf-4c23-8d04-6f2904092704",
   "metadata": {},
   "source": [
    "![](ss_003_6.png)"
   ]
  },
  {
   "cell_type": "markdown",
   "id": "c8329f24-f5fc-4fd5-acf9-26197d31430d",
   "metadata": {},
   "source": [
    "The systems produced different questions, but both asked about problem-solving style, how I respond to conflict, and other questions about how I conduct myself in my daily life to guess my Zodiac sign. Neither guessed correctly, but when I revealed my sign, both provided reasoning as to why my answers at least partially reflect what's expected for the sign while also identifying deviations and explaining how a different answer to 1 question would have changed their conclusion. Both systems expanded on the reasoning and logic behind their guesses, unlike Buzzfeed quizzes. There is little need for Buzzfeed to provide reasoning for their results since the platform is used mainly by children, AI is often used for high stakes decision-making, thus users having insight into how responses are crafted are important for choosing whether or not to act on AI's recommendations."
   ]
  }
 ],
 "metadata": {
  "kernelspec": {
   "display_name": "Python 3-12 (COMM4190)",
   "language": "python",
   "name": "python3-12_comm4190"
  },
  "language_info": {
   "codemirror_mode": {
    "name": "ipython",
    "version": 3
   },
   "file_extension": ".py",
   "mimetype": "text/x-python",
   "name": "python",
   "nbconvert_exporter": "python",
   "pygments_lexer": "ipython3",
   "version": "3.12.11"
  }
 },
 "nbformat": 4,
 "nbformat_minor": 5
}
