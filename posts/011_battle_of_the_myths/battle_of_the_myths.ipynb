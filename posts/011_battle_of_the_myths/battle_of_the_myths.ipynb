{
 "cells": [
  {
   "cell_type": "markdown",
   "id": "20c7ae88-7845-4938-81b6-9cf09327c9c2",
   "metadata": {},
   "source": [
    "---\n",
    "title: \"Battle of the Myths\"\n",
    "description: \"Which Mythological, Hybrid Creature Is the Strongest?\" \n",
    "author: \"Aitalia Sharpe\"\n",
    "date: \"10/1/2025\"\n",
    "categories:\n",
    "  - LLMs\n",
    "  - Learning\n",
    "---"
   ]
  },
  {
   "cell_type": "markdown",
   "id": "d07a8784-4db8-43ff-a19b-37cf60f02c48",
   "metadata": {},
   "source": [
    "![](ss_001.png)"
   ]
  },
  {
   "cell_type": "markdown",
   "id": "d5fb6bb6-a9a8-401f-8b46-f8135371e547",
   "metadata": {},
   "source": [
    "AI allows us to bring even our most fantastical ideas to life through generative imagery. Greek mythology tells stories of fierce battles between heroic demigods and mythological creatures. While we can picture some of the classics (centaur, cyclops, hydra), I'm curious to know what other mutated, hybrid creatures AI can help us to envision. Which combinations would prove to be strong competitors, and which hybrids would be less intimidating than we might think? Lastly, how would these creatures pair up against each other? Let's have AI take us through a hypothetical knockout competition!"
   ]
  },
  {
   "cell_type": "markdown",
   "id": "450c0d0c-6e34-4b4c-984e-eda1ccd26ff8",
   "metadata": {},
   "source": [
    "**What random animal hybrids can AI come up with by combining 1 of Earth's fiercest creatures and one of the most docile?**"
   ]
  },
  {
   "cell_type": "markdown",
   "id": "5bcc0921-ed0f-4b74-b1f7-892108bb84e7",
   "metadata": {},
   "source": [
    "\n",
    "* 🐘🦛 1. Slothopotamus: \n",
    "        Sloth + Hippopotamus = \n",
    "    A slow-moving river guardian with mossy fur and a deceptively calm demeanor. Peaceful until provoked—then it charges like a tank.\n",
    "\n",
    "* 🦎🐰 2. Komobunny: \n",
    "        Komodo Dragon + Rabbit = \n",
    "    A stealthy burrower with venomous charm. It hops innocently but can unleash a toxic bite when threatened.\n",
    "\n",
    "* 🐜🐢 3. Fire Turtle: \n",
    "        Fire Ant + Turtle = \n",
    "    A shell-armored swarm commander. Normally serene, but when disturbed, it unleashes coordinated attacks from beneath its shell.\n",
    "\n",
    "* 🐃🦥 4. Buffasloth: \n",
    "        Cape Buffalo + Sloth = \n",
    "    A jungle wallflower with hidden rage. Moves slowly through trees but can stampede with terrifying force if cornered.\n",
    "\n",
    "* 🐘🦫 5. Elebeaver: \n",
    "        Elephant + Beaver = \n",
    "    A gentle ecosystem engineer with tusks. Builds dams with precision, but defends its territory with thunderous might.\n",
    "\n",
    "* 🦍🦦 6. Ottrilla: \n",
    "        Gorilla + Otter = \n",
    "    A playful river brute. Loves floating on its back and cracking shells—but has the strength to uproot trees if angered.\n",
    "\n",
    "* 🦡🐑 7. Weesheep: \n",
    "        Least Weasel + Sheep = \n",
    "    A deceptively cuddly predator. Looks like a wooly puffball, but defends its flock with lightning-fast strikes.\n",
    "\n",
    "* 🐼🦈 8. Pandark: \n",
    "        Panda + Shark = \n",
    "    A bamboo-loving ocean lurker. Peaceful on land, but underwater it’s a silent hunter with a taste for fish and flair."
   ]
  },
  {
   "cell_type": "markdown",
   "id": "de9a6d6a-dec1-411f-9ce9-662662fa8f24",
   "metadata": {},
   "source": [
    "**Out of these contenders, I think the Elebeaver will prove to be the fiercest competitor.**\n",
    "\n",
    "Let's see the matches AI generates!"
   ]
  },
  {
   "cell_type": "markdown",
   "id": "9701dbc3-376a-4a83-93d2-b89b8a316fcd",
   "metadata": {},
   "source": [
    "![](ss_002.png)"
   ]
  },
  {
   "cell_type": "markdown",
   "id": "76d6a8db-fa21-4e19-94bf-52a6195bc56a",
   "metadata": {},
   "source": [
    "**Looks like my top pick was knocked out in the first round :(**"
   ]
  },
  {
   "cell_type": "markdown",
   "id": "b08cec93-c061-44b6-b2c3-f9ae080475f2",
   "metadata": {},
   "source": [
    "> can you tell me the storyline of this torunament"
   ]
  },
  {
   "cell_type": "markdown",
   "id": "c21ffa4f-e1a0-4f35-bb8d-f2b6a2afc6ff",
   "metadata": {},
   "source": [
    "**Quarterfinals:**\n",
    "\n",
    "Komobunny outpaces and poisons the slow-moving Slothopotamus.\n",
    "\n",
    "Fire Turtle uses swarm tactics and shell defense to outmaneuver Buffasloth.\n",
    "\n",
    "Ottrilla outsmarts Elebeaver with agility and strength.\n",
    "\n",
    "Pandark dominates Weesheep with stealth and aquatic power.\n",
    "\n",
    "**Semifinals:**\n",
    "\n",
    "Fire Turtle overwhelms Komobunny with coordinated defense and strategic attacks.\n",
    "\n",
    "Pandark defeats Ottrilla using dual-terrain advantage and silent strikes.\n",
    "\n",
    "**Finals:**\n",
    "\n",
    "Pandark claims victory over Fire Turtle—its size, stealth, and versatility proving unbeatable."
   ]
  },
  {
   "cell_type": "markdown",
   "id": "97bda971-043a-4da0-aeae-b03d989d8cf3",
   "metadata": {},
   "source": [
    "It was interesting to see the storylines that AI created for each battle between these fictional creatures. I personally would have expected the Ottrilla (Otter + Gorilla hybrid) to be the victor, but I'm sure it put up a good fight!"
   ]
  },
  {
   "cell_type": "markdown",
   "id": "7ded4c89-5ea6-4c54-9a47-4917485217d0",
   "metadata": {},
   "source": [
    "**Give it up for the winner!**"
   ]
  },
  {
   "cell_type": "markdown",
   "id": "49a33217-30f4-4363-9ebb-0f801be2e96b",
   "metadata": {},
   "source": [
    "![](ss_003.png)"
   ]
  }
 ],
 "metadata": {
  "kernelspec": {
   "display_name": "Python 3-12 (COMM4190)",
   "language": "python",
   "name": "python3-12_comm4190"
  },
  "language_info": {
   "codemirror_mode": {
    "name": "ipython",
    "version": 3
   },
   "file_extension": ".py",
   "mimetype": "text/x-python",
   "name": "python",
   "nbconvert_exporter": "python",
   "pygments_lexer": "ipython3",
   "version": "3.12.11"
  }
 },
 "nbformat": 4,
 "nbformat_minor": 5
}
