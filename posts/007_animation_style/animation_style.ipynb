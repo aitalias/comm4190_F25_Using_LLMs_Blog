{
 "cells": [
  {
   "cell_type": "markdown",
   "id": "ecbf96fd-af94-4be1-940d-68f904eb1e06",
   "metadata": {},
   "source": [
    "---\n",
    "title: \"Which Animation Style is Trending\"\n",
    "description: \"Can AI Analyze Audience Response to Competing Animation Styles?\" \n",
    "author: \"Aitalia Sharpe\"\n",
    "date: \"9/24/2025\"\n",
    "categories:\n",
    "  - LLMs\n",
    "  - Learning\n",
    "---"
   ]
  },
  {
   "cell_type": "markdown",
   "id": "64add539-8899-43a0-aefc-56f709925ade",
   "metadata": {},
   "source": [
    "Animation styles have evolved over the years as new technological capabilities have allowed them to do so. Innovation has enabled companies to transition from black-and-white to colored content, from 2D to 3D styles, and more. These new possibilities invite more diverse designs; however, there is often pushback against changed styles for franchises that remain active for extended periods. For example, the Shrek movies have been enjoyed by viewers across generations; however, the trailers for the most recent film revealed drastic changes in animation, which fueled critiques from fans of the classics. Is nostalgia stopping viewers from embracing new styles, or are certain types of animation inherently more appealing to viewers regardless of previous exposure to similar content? Let's see what AI thinks about competing ideas in animation."
   ]
  },
  {
   "cell_type": "markdown",
   "id": "829ab6e3-9be6-431f-97af-3a30c1c50a5d",
   "metadata": {},
   "source": [
    "AI has recognized significant changes in animation styles over the past four decades, identifying components such as line work, color vibrancy, and character expressionism as distinguishing details. While 90's animations are recognized for \"squiggly lines and expressive character designs\" made famous by groups like Klasky-Csupo, this decade's animations are praised for \"highly polished animation with dynamic lighting and detailed backgrounds.\""
   ]
  },
  {
   "cell_type": "markdown",
   "id": "0cc8a17c-d2f6-4ed1-9714-097ebb192f93",
   "metadata": {},
   "source": [
    "![](ss_001.png)"
   ]
  },
  {
   "cell_type": "markdown",
   "id": "d496ed2e-4247-478d-abe8-8202ca4c0bd2",
   "metadata": {},
   "source": [
    "![](ss_002.png)"
   ]
  },
  {
   "cell_type": "markdown",
   "id": "fee781bf-54da-4525-8356-c70075291139",
   "metadata": {},
   "source": [
    "This evolution of styles diversifies content, but how do different generations feel about new animation features?"
   ]
  },
  {
   "cell_type": "markdown",
   "id": "df5d3b8b-89d9-429b-a5e8-94b93b8b5221",
   "metadata": {},
   "source": [
    "![](ss_003.png)"
   ]
  },
  {
   "cell_type": "markdown",
   "id": "7c6a5c42-43f2-4234-ab70-df0c51ac2f3b",
   "metadata": {},
   "source": [
    "Despite each generation's preferences, the general consensus about the shift from 90s techniques to modern animation is the following..."
   ]
  },
  {
   "cell_type": "markdown",
   "id": "3b724fdf-7c79-412b-8b87-45ec4fc40dd8",
   "metadata": {},
   "source": [
    "![](ss_004.png)"
   ]
  },
  {
   "cell_type": "markdown",
   "id": "1d1362ee-d2ce-47bb-9c94-9e948a301c54",
   "metadata": {},
   "source": [
    "Ultimately, I sought to determine if AI could generate images that mimicked the animation styles of these two decades. Can you guess which image represents each decade?"
   ]
  },
  {
   "cell_type": "markdown",
   "id": "3eefdfcb-6b94-4af5-8b90-6dcba998846b",
   "metadata": {},
   "source": [
    "![](ss_005.png)"
   ]
  },
  {
   "cell_type": "markdown",
   "id": "e1c7fa1f-62f6-4578-bb0c-86cdb02acd41",
   "metadata": {},
   "source": [
    "![](ss_006.png)"
   ]
  }
 ],
 "metadata": {
  "kernelspec": {
   "display_name": "Python 3-12 (COMM4190)",
   "language": "python",
   "name": "python3-12_comm4190"
  },
  "language_info": {
   "codemirror_mode": {
    "name": "ipython",
    "version": 3
   },
   "file_extension": ".py",
   "mimetype": "text/x-python",
   "name": "python",
   "nbconvert_exporter": "python",
   "pygments_lexer": "ipython3",
   "version": "3.12.11"
  }
 },
 "nbformat": 4,
 "nbformat_minor": 5
}
