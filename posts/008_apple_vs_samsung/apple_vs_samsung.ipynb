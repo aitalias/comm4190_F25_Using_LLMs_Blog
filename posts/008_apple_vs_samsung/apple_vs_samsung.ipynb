{
 "cells": [
  {
   "cell_type": "markdown",
   "id": "c3a9edf9-4f91-432d-a6c5-1e6705308aa0",
   "metadata": {},
   "source": [
    "---\n",
    "title: \"Apple or Samsung\"\n",
    "description: \"How do Different LLMs Decide Which Company's Technology is Superior?\" \n",
    "author: \"Aitalia Sharpe\"\n",
    "date: \"9/25/2025\"\n",
    "categories:\n",
    "  - LLMs\n",
    "  - Learning\n",
    "---"
   ]
  },
  {
   "cell_type": "markdown",
   "id": "0dbb253b-deb8-4d56-964d-69b59ac8b9b7",
   "metadata": {},
   "source": [
    "The smart technology war has featured Apple and Samsung for decades, with many consumers remaining loyal to one brand despite additional capabilities that the alternative may offer. The announcement of new features incentivizes the competition to find new ideas that will capture the audience's attention, and their efforts are often successful. After all, we're on the 17th iPhone. The recent launch of the iPhone 17 has once again sparked conversation on social media, with many saying that Apple is running out of ideas and that this may be the push they needed to switch over to Samsung. This prompts the question, what features are truly important to consumers when choosing a technology company? Do standards and capabilities matter more in different regions? Which brand would different LLMs decree to be better, and what characteristics are these choices based on?"
   ]
  },
  {
   "cell_type": "markdown",
   "id": "21b4de9a-7514-4638-87ba-6c922f462355",
   "metadata": {},
   "source": [
    "I asked two LLMs to choose 5 important features that consumers should consider when purchasing a smartphone and to rate Apple and Samsung's performances in each area on a scale from 1-10."
   ]
  },
  {
   "cell_type": "markdown",
   "id": "1fe969fd-59d8-404e-89cc-432dd3e31ab3",
   "metadata": {},
   "source": [
    "![](ss_001.png)"
   ]
  },
  {
   "cell_type": "markdown",
   "id": "16366a2b-fcd2-4b46-a519-65fbe4f63130",
   "metadata": {},
   "source": [
    "![](ss_002.png)"
   ]
  },
  {
   "cell_type": "markdown",
   "id": "32eec465-c20b-4731-ba1e-4c46413a4e8a",
   "metadata": {},
   "source": [
    "It was interesting to see that they chose the same criteria, and that both identified Apple as the better option despite rating the individual qualities differently. "
   ]
  },
  {
   "cell_type": "markdown",
   "id": "b9fc6365-7344-4575-bd22-d992a997a38f",
   "metadata": {},
   "source": [
    "Let's look if each brand's market share across regions aligns with AI's rankings."
   ]
  },
  {
   "cell_type": "markdown",
   "id": "66cc9dc9-5a77-4cb1-87ce-dcf9d40f71e0",
   "metadata": {},
   "source": [
    "![](ss_003.png)"
   ]
  },
  {
   "cell_type": "markdown",
   "id": "942b149d-60e5-4dcb-808c-9840b013e1ee",
   "metadata": {},
   "source": [
    "![](ss_004.png)"
   ]
  },
  {
   "cell_type": "markdown",
   "id": "4588fbfc-5806-46c1-a92d-10575d997a35",
   "metadata": {},
   "source": [
    "![](ss_005.png)"
   ]
  },
  {
   "cell_type": "markdown",
   "id": "439f3c55-b444-40a4-b2f6-f1bd04105bf1",
   "metadata": {},
   "source": [
    "Although Apple is significantly more popular in North America, Samsung still holds the larger global share."
   ]
  },
  {
   "cell_type": "markdown",
   "id": "d5962943-cd13-427c-a321-11843179bd7a",
   "metadata": {},
   "source": [
    "After ranking the operational capabilities of each brand's smartphone, and evaluating the adoption of their products among diverse populations, AI recognizes Apple's technology as superior."
   ]
  }
 ],
 "metadata": {
  "kernelspec": {
   "display_name": "Python 3-12 (COMM4190)",
   "language": "python",
   "name": "python3-12_comm4190"
  },
  "language_info": {
   "codemirror_mode": {
    "name": "ipython",
    "version": 3
   },
   "file_extension": ".py",
   "mimetype": "text/x-python",
   "name": "python",
   "nbconvert_exporter": "python",
   "pygments_lexer": "ipython3",
   "version": "3.12.11"
  }
 },
 "nbformat": 4,
 "nbformat_minor": 5
}
