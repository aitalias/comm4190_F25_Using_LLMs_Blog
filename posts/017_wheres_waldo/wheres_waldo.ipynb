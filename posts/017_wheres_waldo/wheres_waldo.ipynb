{
 "cells": [
  {
   "cell_type": "markdown",
   "id": "4abb276f-f79d-475c-a181-196ef5d1c6ac",
   "metadata": {},
   "source": [
    "---\n",
    "title: \"Where's Waldo\"\n",
    "description: \"Can AI generate different levels of the classic 'Where's Waldo? ' game?\" \n",
    "author: \"Aitalia Sharpe\"\n",
    "date: \"10/15/2025\"\n",
    "categories:\n",
    "  - LLMs\n",
    "  - Learning\n",
    "---\n"
   ]
  },
  {
   "cell_type": "markdown",
   "id": "60725a38-d753-4ce6-b0c5-85184c894c29",
   "metadata": {},
   "source": [
    "![](ss_001.png)"
   ]
  },
  {
   "cell_type": "markdown",
   "id": "7027b515-1b5b-4f2b-beea-edc9ceee21d9",
   "metadata": {},
   "source": [
    "I used to love playing \"Where's Waldo\" as a kid! Can AI create its own version with different levels of difficulty? Let's see if there's a way to make it more appealing to adults who want a taste of nostalgia with a bigger challenge!"
   ]
  },
  {
   "cell_type": "markdown",
   "id": "636be99b-0a7a-4337-bbbb-caf1ac71f1f9",
   "metadata": {},
   "source": [
    "I asked Copilot to generate 3 games: beginner, intermediate, and advanced. Let's see the games!"
   ]
  },
  {
   "cell_type": "markdown",
   "id": "aa7f759a-606f-4550-90eb-f485d207aed1",
   "metadata": {},
   "source": [
    "![](ss_002.png)"
   ]
  },
  {
   "cell_type": "markdown",
   "id": "f0526130-05e2-4738-b028-c94663ba04e1",
   "metadata": {},
   "source": [
    "![](ss_003.png)"
   ]
  },
  {
   "cell_type": "markdown",
   "id": "f582a00e-6cad-4dae-bee7-c4e8e9175087",
   "metadata": {},
   "source": [
    "![](ss_004.png)"
   ]
  },
  {
   "cell_type": "markdown",
   "id": "22389a89-6bf8-4632-8ee8-f4ff8828ec08",
   "metadata": {},
   "source": [
    "I was disappointed by the generated images. I gave specific instructions about size, setting, and color scheme for each game level, but there was little to no difference in how difficult it was to identify Waldo in each picture. I also noticed that with the last picture, Copilot attempted to add more detail, but that caused glitches within the generated image.\n",
    "\n",
    "I wonder if there other advanced AI models would have bee able to make more challenging games."
   ]
  }
 ],
 "metadata": {
  "kernelspec": {
   "display_name": "Python 3-12 (COMM4190)",
   "language": "python",
   "name": "python3-12_comm4190"
  },
  "language_info": {
   "codemirror_mode": {
    "name": "ipython",
    "version": 3
   },
   "file_extension": ".py",
   "mimetype": "text/x-python",
   "name": "python",
   "nbconvert_exporter": "python",
   "pygments_lexer": "ipython3",
   "version": "3.12.11"
  }
 },
 "nbformat": 4,
 "nbformat_minor": 5
}
