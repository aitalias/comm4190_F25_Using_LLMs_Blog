{
 "cells": [
  {
   "cell_type": "markdown",
   "id": "ab0e22f9-cdbc-48b0-bfa5-a4f9c6f8c6ee",
   "metadata": {},
   "source": [
    "---\n",
    "title: \"Securing The Bag\"\n",
    "description: \"Using AI to help me write the perfect cover letter?\" \n",
    "author: \"Aitalia Sharpe\"\n",
    "date: \"10/09/2025\"\n",
    "categories:\n",
    "  - LLMs\n",
    "  - Learning\n",
    "---"
   ]
  },
  {
   "cell_type": "markdown",
   "id": "a8ab3eb0-3dda-416e-ab91-21a8bd787ef6",
   "metadata": {},
   "source": [
    "![](ss_001.png)"
   ]
  },
  {
   "cell_type": "markdown",
   "id": "08975cbd-a651-4147-916c-d00e10e8bc31",
   "metadata": {},
   "source": [
    "Today's job market is a nightmare to break into. Highly sought-after positions are getting harder and harder to secure due to the mass number of applicants and the \"game\" that comes with applying. To get your foot in the door, you must do more than submit a resume; you have to attend networking events, do coffee chats, and send cold emails. It's easy to fill out tens of applications, but the worst part of applying is writing the dreaded cover letter. Almost every job recruiting new grads expects a 2-400 letter essentially praising the company and explaining why you are a perfect match, but when everyone knows the recipe, how do you stand out? I'm going to write a letter for a current job posting using AI, each of us contributing 3 words at a time. I'll compare the final product to a cover letter I have written myself for that same job and have AI decide which one would be most likely to move on to the interview round!"
   ]
  },
  {
   "cell_type": "markdown",
   "id": "7e753432-15c2-452a-80a8-493a27a4d723",
   "metadata": {},
   "source": [
    "**Before starting the writing process, I uploaded my resume so that the LLM can reference specific experiences and qualifications. Here's the final result!**"
   ]
  },
  {
   "cell_type": "markdown",
   "id": "ffb5657f-69a9-45c3-b296-bbadb7b2d09c",
   "metadata": {},
   "source": [
    "Dear L'Oréal Hiring Team, I'm excited to apply for the Marketing position and express my passion for beauty, wellness, and catering to diverse consumer needs. My prior experiences at Dr. Reddy's Laboratories and Johnson & Johnson have equipped me with skills crucial to driving brand growth through data analysis and strategic marketing initiatives. I align with L'Oréal's commitment to innovation and consumer-focused initiatives that create meaningful impact and promote inclusivity across diverse cultural segments. I'm eager to leverage my cross-functional collaboration so that I can develop comprehensive marketing strategies that'll inform product launches and optimize product performance long-term. My leadership roles in Strictly Funk Dance Company and Black Wharton Consulting have equipped me with P&L management experiences that have strengthened my ability to optimize spending for maximum profitability while maintaining focus on crucial brand objectives. I successfully prioritized spending areas and reduced operational costs, making this year's budget more efficient. My skills and acumen position me to excel as a leader in L'Oréal's dynamic environment. I hope to contribute innovative solutions and learn from adept professionals shaping beauty's future. Thank you for considering my application. Sincerely, Aitalia Sharpe"
   ]
  },
  {
   "cell_type": "markdown",
   "id": "fa108d17-7d41-446a-80fd-d57299629343",
   "metadata": {},
   "source": [
    "**I used another LLM to rate this cover letter compared to the letter I wrote myself. I'll definitely continue writing them myself going forward.**"
   ]
  }
 ],
 "metadata": {
  "kernelspec": {
   "display_name": "Python 3-12 (COMM4190)",
   "language": "python",
   "name": "python3-12_comm4190"
  },
  "language_info": {
   "codemirror_mode": {
    "name": "ipython",
    "version": 3
   },
   "file_extension": ".py",
   "mimetype": "text/x-python",
   "name": "python",
   "nbconvert_exporter": "python",
   "pygments_lexer": "ipython3",
   "version": "3.12.11"
  }
 },
 "nbformat": 4,
 "nbformat_minor": 5
}
