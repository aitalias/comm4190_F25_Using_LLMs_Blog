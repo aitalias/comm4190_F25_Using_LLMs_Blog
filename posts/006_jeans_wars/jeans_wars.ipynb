{
 "cells": [
  {
   "cell_type": "raw",
   "id": "0caf3485-3b29-4377-ad8a-05322ef25e41",
   "metadata": {},
   "source": [
    "---\n",
    "title: \"Whose Jeans Will KATch My EYE\"\n",
    "description: \"How Do AI Platforms Perceive Gap's Ad with Katseye Compared to American Eagle's With Sydney Sweeney\" \n",
    "author: \"Aitalia Sharpe\"\n",
    "date: \"9/18/2025\"\n",
    "categories:\n",
    "  - LLMs\n",
    "  - Learning\n",
    "---"
   ]
  },
  {
   "cell_type": "markdown",
   "id": "ab25ece5-57e8-4e57-ad33-76e2e4ec7d13",
   "metadata": {},
   "source": [
    "![](ss_003.png)"
   ]
  },
  {
   "cell_type": "markdown",
   "id": "e1d8e976-fc80-4705-8605-0efbc5d17b88",
   "metadata": {},
   "source": [
    "The months of August and September featured extensive online discourse about the promotional ad by GAP starring Katseye and the ad by American Eagle starring Sydney Sweeney. Many critiqued American Eagle's ad being an homage to the distasteful Calvin Klein ad that starred an underage Brooke Shields in 1980. In addition to backlash for remaking an ad already deemed inappropriate, American Eagle was also condemned for using language that seemingly idealizes genetics like Sydney Sweeney's and promotes white supremacist narratives. GAP, oppositionally cast a Global girl group that featured members from diverse backgrounds and delivered a message of fun, versatility, and acceptance. After using AI to see the performance statistics of these ads across platforms, I plan to see if AI can break down audience response to the two ads by different demographics, including age, racial group, and region. Finally, I want to see AI's opinion of the two ads."
   ]
  },
  {
   "cell_type": "markdown",
   "id": "14f2390c-d179-476c-8662-d49f90803ba3",
   "metadata": {},
   "source": [
    "Here's how the conversation went:"
   ]
  },
  {
   "attachments": {},
   "cell_type": "markdown",
   "id": "e3dfbd34-1fbd-45a9-b377-d44951dd19f3",
   "metadata": {},
   "source": [
    "Me: in 3 sentences, what is your main takeaway from public discourse about Gap's and American Eagle's most recent jeans ads\n",
    "\n",
    "Copilot: Public discourse around Gap and American Eagle’s 2025 jeans ads highlights a stark contrast in strategy: Gap’s “Better in Denim” campaign was praised for its inclusive, dance-driven celebration featuring global girl group KATSEYE2. Meanwhile, American Eagle’s ad with Sydney Sweeney sparked controversy over its “good genes” pun, drawing criticism for tone-deaf messaging and perceived eugenics undertones3. The conversation underscores how authenticity and cultural sensitivity can drive positive engagement, while provocative tactics risk backlash—even if they generate buzz."
   ]
  },
  {
   "cell_type": "markdown",
   "id": "e58602b4-50d8-4a12-89be-b048bf026c86",
   "metadata": {},
   "source": [
    "Me: what are the total performance metrics (likes, shares, clicks to website) of each ad across platforms"
   ]
  },
  {
   "cell_type": "markdown",
   "id": "da5836fd-1d24-48f9-a5ef-e67bbf6f7dbd",
   "metadata": {},
   "source": [
    "*Copilot provided the following*"
   ]
  },
  {
   "cell_type": "markdown",
   "id": "d97b1960-3e3b-4252-9444-2a645c2365e8",
   "metadata": {},
   "source": [
    "![](ss_001.png)"
   ]
  },
  {
   "cell_type": "markdown",
   "id": "1ea71538-956a-461b-9981-a44f40a2e7aa",
   "metadata": {},
   "source": [
    "Gap’s campaign leaned into cultural resonance and inclusivity, while American Eagle’s shock-value strategy drove massive reach and customer acquisition. If you’d like, I can help visualize this comparison or track future updates."
   ]
  },
  {
   "cell_type": "markdown",
   "id": "1a175a46-e357-4337-94ef-0689d4bfe0f2",
   "metadata": {},
   "source": [
    "I then prompted it to rate audience approval across different demographics."
   ]
  },
  {
   "cell_type": "markdown",
   "id": "8f3cc77b-7c22-4146-891e-64714e30740e",
   "metadata": {},
   "source": [
    "![](ss_002.png)"
   ]
  },
  {
   "cell_type": "markdown",
   "id": "ee1ce58c-6fbe-4f24-a839-475cb9d48849",
   "metadata": {},
   "source": [
    "Microsoft Copilot successfully presented me with metrics showing the cumulative success of each ad and communicated the general reactions of audience members from various demographics. These breakdowns showed the GAP ad to be unanimously preferred to American Eagle's. Most of the social discourse I'd seen criticized the discriminatory undertones of the American Eagle ad, so I wasn't surprised to see this reflected in the ratings. I agree with AI's conclusion that GAP's inclusive casting and modernization of an old song made it resonate with such a broad audience and was the key to their success. If other brands want to see similar trends, they would benefit from following Gap's example; however, I wonder if audiences would perceive it as a shift towards a more inclusive culture or an inauthentic, desperate cash-grab attempt."
   ]
  }
 ],
 "metadata": {
  "kernelspec": {
   "display_name": "Python 3-12 (COMM4190)",
   "language": "python",
   "name": "python3-12_comm4190"
  },
  "language_info": {
   "codemirror_mode": {
    "name": "ipython",
    "version": 3
   },
   "file_extension": ".py",
   "mimetype": "text/x-python",
   "name": "python",
   "nbconvert_exporter": "python",
   "pygments_lexer": "ipython3",
   "version": "3.12.11"
  }
 },
 "nbformat": 4,
 "nbformat_minor": 5
}
