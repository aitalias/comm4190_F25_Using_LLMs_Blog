{
 "cells": [
  {
   "cell_type": "raw",
   "id": "2f72677b-f9ae-4f50-bb24-668deb491f6d",
   "metadata": {},
   "source": [
    "---\n",
    "title: \"My Social Niche\"\n",
    "description: \"What Type of Influencer Brand Does AI Think Fits Me Best\" \n",
    "author: \"Aitalia Sharpe\"\n",
    "date: \"9/17/2025\"\n",
    "categories:\n",
    "  - LLMs\n",
    "  - Learning\n",
    "---"
   ]
  },
  {
   "cell_type": "markdown",
   "id": "b7dbdea9-cd09-458c-ac66-4cc9dd7822a0",
   "metadata": {},
   "source": [
    "![](ss_003.png)"
   ]
  },
  {
   "cell_type": "markdown",
   "id": "8a57d2fb-4920-4bc6-a02d-1fdc81dd7279",
   "metadata": {},
   "source": [
    "Gen Z's perception of the world is largely shaped by social media. From political views to love languages, to future profession opportunities, we form opinions by engaging with other people and considering their perspectives. The authority of social media on our lives is facilitated by influencers. Especially on TikTok, people can identify an area of interest upon which to center creative content, and with the help of the TikTok algorithm, many have the potential to become popular figures with the capabilities to profit from their videos. For many, higher education has grown increasingly unattractive as a next step following high school, causing them to attempt to become influencers as their full-time career. An important part of being a successful influencer is knowing your niche. Based on supplemental information about personality and interests, I'm curious to know what type of influencer AI thinks I should be if I wanted to maximize popularity."
   ]
  },
  {
   "cell_type": "markdown",
   "id": "8b84027d-5223-49d6-9dde-c5ad0a7eda11",
   "metadata": {},
   "source": [
    "Here's how the conversation went:"
   ]
  },
  {
   "cell_type": "markdown",
   "id": "7f142db3-d369-4691-9f0c-d9a6e87b6960",
   "metadata": {},
   "source": [
    "Me: what type of influencer content is most popular amongst TikTok viewers"
   ]
  },
  {
   "cell_type": "markdown",
   "id": "9ac88855-2a43-4301-910f-c407d450e2dc",
   "metadata": {},
   "source": [
    "Copilot:\n",
    "\n",
    "GRWM (Get Ready With Me): Especially in beauty and fashion, these videos blend routine with personality, often using trending sounds.\n",
    "\n",
    "Tutorials & How-Tos: Quick, digestible guides—from makeup to productivity hacks—are highly engaging and shareable.\n",
    "\n",
    "Challenges & Trends: Participating in viral challenges or remixing trending formats boosts visibility and taps into TikTok’s algorithm.\n",
    "\n",
    "POV & Storytelling: Creators use “POV” formats or short skits to share relatable experiences, often with humor or emotional depth.\n",
    "\n",
    "Lifestyle Vlogs: Day-in-the-life clips, travel diaries, and personal routines help build parasocial connections.\n",
    "\n",
    "Edutainment: Educational content with an entertaining twist—especially in finance, tech, and wellness—is gaining traction."
   ]
  },
  {
   "cell_type": "raw",
   "id": "e38a0226-b35a-4599-bb80-134a775bdc27",
   "metadata": {},
   "source": [
    "*Copilot showed the same types of content to be the most profitable for newly established influencers.*"
   ]
  },
  {
   "cell_type": "markdown",
   "id": "273c8f3c-a2b2-4fdd-b731-6609ce664e66",
   "metadata": {},
   "source": [
    "Here's the personality/content survey I answered to determing which type of influencer I should be if I chose to follow that path!"
   ]
  },
  {
   "cell_type": "markdown",
   "id": "1728273a-ac18-499b-86e2-47c05ef91d6a",
   "metadata": {},
   "source": [
    "![](ss_001.png)"
   ]
  },
  {
   "cell_type": "markdown",
   "id": "fa37d091-5e56-47eb-a6ff-7a2da9e94a7a",
   "metadata": {},
   "source": [
    "![](ss_002.png)"
   ]
  },
  {
   "cell_type": "markdown",
   "id": "37ca2bd2-6f7e-4979-a942-71e27e23d401",
   "metadata": {},
   "source": [
    "Co-pilot advised me to try *drumroll* Lifestyle and Edutainment Content!"
   ]
  },
  {
   "cell_type": "markdown",
   "id": "993ef81c-5f65-47fe-8e08-71c962af36da",
   "metadata": {},
   "source": [
    "Copilot found the following types of content to be most popular and profitable for those trying to become influencers and even provided some explanation as to why they tend to resonate with audiences more than other video types. I think these types of creators benefit from the public's craving for authenticity. We are constantly faced with big brands trying to paint themselves a certain way to incentivize purchases, so when we're faced with genuine content, we're appreciative of the vulnerability. Copoilot concluded that if I were to enter the influencer space, I would be most likely to succeed in one of the aforementioned disciplines. Though flattered by the idea of people being that invested in my day-to-day life, I've noticed that, recently, audiences have grown more parasocial and have even developed a sense of entitlement to being privy to the intimate details of public figures' lives. It would be cool to be an influencer, but I need my privacy, so I think I'll stick to a more practical career!"
   ]
  }
 ],
 "metadata": {
  "kernelspec": {
   "display_name": "Python 3-12 (COMM4190)",
   "language": "python",
   "name": "python3-12_comm4190"
  },
  "language_info": {
   "codemirror_mode": {
    "name": "ipython",
    "version": 3
   },
   "file_extension": ".py",
   "mimetype": "text/x-python",
   "name": "python",
   "nbconvert_exporter": "python",
   "pygments_lexer": "ipython3",
   "version": "3.12.11"
  }
 },
 "nbformat": 4,
 "nbformat_minor": 5
}
