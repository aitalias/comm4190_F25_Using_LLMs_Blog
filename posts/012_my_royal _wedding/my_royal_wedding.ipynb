{
 "cells": [
  {
   "cell_type": "markdown",
   "id": "d68936a1-7e8d-4ae7-aa94-e37486a7fb0f",
   "metadata": {},
   "source": [
    "---\n",
    "title: \"My Royal Wedding\"\n",
    "description: \"Can AI Bring My Dream Pinterest Wedding to Life?\" \n",
    "author: \"Aitalia Sharpe\"\n",
    "date: \"10/03/2025\"\n",
    "categories:\n",
    "  - LLMs\n",
    "  - Learning\n",
    "---"
   ]
  },
  {
   "cell_type": "markdown",
   "id": "6ab5afd7-4fa5-4cdb-9940-2efa6208a0fb",
   "metadata": {},
   "source": [
    "Like so many other girls, I have had my wedding designed on Pinterest since I was 10. From the neckline cut of my dress to the color scheme to the cut of my ring, I have a collection of inspiration pics that is sure to make planning easier when the time comes. Some of my tastes have certainly changed since I created my first dream board, but my primary vision remains intact. While some wedding aspects are timeless, there are a few new trends that have emerged over the past few years that I would like to incorporate, but the scariest part is, of course, the prices. I'd like to see if AI can generate ideas for my wedding, including affordable alternatives to some of my pricier ideas, and produce a wedding plan for $15,000 or less."
   ]
  },
  {
   "cell_type": "markdown",
   "id": "78e76ca0-e0d2-4991-b505-56dfaa3917ed",
   "metadata": {},
   "source": [
    "**These are the guidelines I included in my prompt**\n",
    "\n",
    "* Color scheme: teal and brown (feel free to add another color to help blend the two)\n",
    "* Ceremony: somewhere close to NJ, modern, florals coming from high ceiling, reflective aisle, raised altar, large windows to let light in\n",
    "* Reception: big open space for a dancefloor in the middle of the room surrounded by tables, moderately sized centerpieces with flowers and other accents\n",
    "* Food: walk-up bars from different cuisines and a dessert bar\n",
    "* Dress: ball gown !!or mermaid dress (I'd like to see two options)\n",
    "* Ring: princess cut (2.5 carats), silver band with a floral band\n",
    "* Extra amenities: live violinist for when walking down the aisle, live painter, \"walk down memory lane\" with pictures and brief descriptions of our relationship milestones"
   ]
  },
  {
   "cell_type": "markdown",
   "id": "3362a181-34be-4cbf-91f6-0b1462f47ea5",
   "metadata": {},
   "source": [
    "![](ss_001.png)"
   ]
  },
  {
   "cell_type": "markdown",
   "id": "5033b7bb-0381-4e18-8b1f-5dae6f5eb1d4",
   "metadata": {},
   "source": [
    "This design is even better than what I had imagined. The colors blend well together, and the overall visual gives the enchanting feeling that I want my wedding to have!"
   ]
  },
  {
   "cell_type": "markdown",
   "id": "aadf4848-ac69-4e65-88fe-a48363c887fb",
   "metadata": {},
   "source": [
    "![](ss_002.png)"
   ]
  },
  {
   "cell_type": "markdown",
   "id": "37f7a223-8bcf-4783-b967-0a3f1d71989d",
   "metadata": {},
   "source": [
    "These reception layouts fit my suggestions and would be perfect for a small wedding. I'd definitely need more floor space for dancing, though."
   ]
  },
  {
   "cell_type": "markdown",
   "id": "006bc470-4c4f-4d2c-80b1-72c35453716f",
   "metadata": {},
   "source": [
    "**Now for the most important parts... THE GOWN AND RING**"
   ]
  },
  {
   "cell_type": "markdown",
   "id": "ef52b0f3-500a-419b-8d3e-3661314594ae",
   "metadata": {},
   "source": [
    "![](ss_003.png)"
   ]
  },
  {
   "cell_type": "markdown",
   "id": "0ded2abe-ca1d-4757-ae47-7ba054e0a5a7",
   "metadata": {},
   "source": [
    "![](ss_004.png)"
   ]
  },
  {
   "cell_type": "markdown",
   "id": "3b737885-3668-4701-87e8-3cbf6d309b5b",
   "metadata": {},
   "source": [
    "I don't really love either dress option, but I'm definitely more fond of the ball gown, so I'll keep that in mind when it's time to go shopping. As for the ring, the design is very sleek and classic. I think I would want my band to be a little thinner but this is a great starting point!"
   ]
  },
  {
   "cell_type": "markdown",
   "id": "6089449c-b399-43b1-b28a-f189f8465cd3",
   "metadata": {},
   "source": [
    "Overall, AI was able to create visuals based on the guidelines I gave, and the results were much closer to my prompts than I expected. I will definitely be using these pictures for inspiration when the time comes!"
   ]
  }
 ],
 "metadata": {
  "kernelspec": {
   "display_name": "Python 3-12 (COMM4190)",
   "language": "python",
   "name": "python3-12_comm4190"
  },
  "language_info": {
   "codemirror_mode": {
    "name": "ipython",
    "version": 3
   },
   "file_extension": ".py",
   "mimetype": "text/x-python",
   "name": "python",
   "nbconvert_exporter": "python",
   "pygments_lexer": "ipython3",
   "version": "3.12.11"
  }
 },
 "nbformat": 4,
 "nbformat_minor": 5
}
