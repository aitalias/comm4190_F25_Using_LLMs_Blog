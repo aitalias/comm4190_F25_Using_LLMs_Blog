{
 "cells": [
  {
   "cell_type": "markdown",
   "id": "d8c7c6e1-dc1c-4637-b0b3-fea8e1f7490e",
   "metadata": {},
   "source": [
    "---\n",
    "title: \"What Do You Mean She's Not Real\"\n",
    "description: \"What does AI have to say about Hollywood's newest star, Tilly Norwood?\" \n",
    "author: \"Aitalia Sharpe\"\n",
    "date: \"10/13/2025\"\n",
    "categories:\n",
    "  - LLMs\n",
    "  - Learning\n",
    "---"
   ]
  },
  {
   "cell_type": "markdown",
   "id": "04cdcdc4-52fe-46f1-a1f6-2d0f113e5a7b",
   "metadata": {},
   "source": [
    "![](ss_001.png)"
   ]
  },
  {
   "cell_type": "markdown",
   "id": "746a41c0-9c77-40a6-af2c-13afa5458594",
   "metadata": {},
   "source": [
    "Have you met Hollywood's newest upcoming sensation? She's supposedly a star in the making and expected to be a diverse actress capable of portraying a variety of roles, but the craziest part...SHE'S NOT REAL! That's right, Hollywood has just announced the debut of the first-ever AI actress, whom they've named Tilly Norwood. This new revelation is sparking tons of opposing opinions: some are excited about this new capability and look forward to seeing how AI will interact with live actors and whether this new venture will be successful. On the other hand, many are worried about how this young \"actress\" will be portrayed. Hollywood already faces backlash for misogynistic storylines that are portrayed by actors, and it is often the actresses themselves who, in their refusal to act out certain behaviors, stop things from going too far. Studios can have Tilly do and say whatever they want. Many believe that this makes a mockery of women's autonomy and fear that it will set back progress that's been made in the fight for respectful treatment towards women in Hollywood. So, what do you think? Is this a great new capability, or have things been taken too far? I wonder what AI LLM's have to say about this!"
   ]
  },
  {
   "cell_type": "markdown",
   "id": "f916397a-4255-4f4f-af3c-3afc5a329d3a",
   "metadata": {},
   "source": [
    "What are 3 pros and 3 cons to introducing AI actress, Tilly Norwood, into Hollywood?\n",
    "\n",
    "**PROS**\n",
    "1. **Creative Innovation & New Storytelling Tool** - Supporters view AI as a new creative tool comparable to animation, puppetry, or CGI that opens fresh possibilities for storytelling without replacing human actors.\n",
    "2. **Artistic Expression** - Defenders frame Tilly as a piece of art rather than a replacement, arguing that she sparks important conversations about creativity.\n",
    "3. **Technical Advancement** - The creator describes her as representing new possibilities in filmmaking technology, similar to how previous innovations expanded creative options.\n",
    "    \n",
    "**CONS**\n",
    "1. **Job Displacement & Threat to Human Actors** - SAG-AFTRA and many actors view this as devaluing human artistry, with the union explicitly stating \"Tilly Norwood is not an actor\" and expressing concern about synthetic performers being used without proper contractual protections.\n",
    "2. **Ethical Issues with Training Data** - Critics point out that hundreds of living young women's faces were composited together to create Tilly, questioning why those real actors couldn't have been hired instead.\n",
    "3. **Gendered Control Concerns** - Many critics noted it's \"not surprising the first major 'AI actor' is a young woman they can fully control,\" highlighting concerns about creating a controllable female performer."
   ]
  },
  {
   "cell_type": "markdown",
   "id": "aa0eb83b-36ee-43e8-b130-5a6b99b719f0",
   "metadata": {},
   "source": [
    "**\"Do you think Tilly's interaction on screen with human actors will be successful to the point where she and potential other AI actors will pose a genuine threat to working actors?\"**"
   ]
  },
  {
   "cell_type": "markdown",
   "id": "23bf92bb-373c-48ca-8915-31f5f911b68b",
   "metadata": {},
   "source": [
    "**Technical Issues**\n",
    "- Spontaneous reactions to scene partners\n",
    "- Physical presence and spatial awareness on set\n",
    "- Real-time collaboration with directors making adjustments\n",
    "- Genuine chemistry and emotional responsiveness\n",
    "- Improvisation and adaptation\n",
    "\n",
    "  **The Real Concern**\n",
    "1. Background and minor roles - Where the performance demands are lower and cost savings are significant\n",
    "2. Commercial and corporate content - Where \"good enough\" is acceptable\n",
    "3. Contractual erosion - Studios using AI to avoid paying residuals, royalties, or fair wages\n",
    "4. Bargaining power - Even if AI isn't technically superior, the threat of replacement weakens actors' negotiating positions"
   ]
  },
  {
   "cell_type": "markdown",
   "id": "791fa5ea-4647-4cee-82ca-b446684033f4",
   "metadata": {},
   "source": [
    "**\"Will this new capability, pose equal threat to newcomers in the industry and pre-established actors?\"**"
   ]
  },
  {
   "cell_type": "markdown",
   "id": "46e2f318-5ee2-489f-ad9e-556d0d43aa01",
   "metadata": {},
   "source": [
    "**Emerging/Green Actors are most vulnerable because...**\n",
    "\n",
    "- Entry-level roles that could vanish entirely\n",
    "- The \"ladder\" of incremental opportunities\n",
    "- Visibility and networking\n",
    "- Building a reel\n",
    "\n",
    "**Established/Prominent Actors are better protected because of...**\n",
    "- Name recognition = box office value - Studios need stars people actually want to see\n",
    "- Bargaining power - Strong agents, contracts, unions protecting their likeness rights\n",
    "- Unique artistic value - Their specific persona, reputation, and proven audience draw\n",
    "- Financial cushion - Can afford to be selective and weather industry changes"
   ]
  },
  {
   "cell_type": "markdown",
   "id": "8db35da4-7c89-44ec-9beb-bbd568be709e",
   "metadata": {},
   "source": [
    "**But what happens to those who fall between A-List and unknown? If AI hinders newbies from entering on the ground floor, how will we create new stars to be on top?**"
   ]
  }
 ],
 "metadata": {
  "kernelspec": {
   "display_name": "Python 3-12 (COMM4190)",
   "language": "python",
   "name": "python3-12_comm4190"
  },
  "language_info": {
   "codemirror_mode": {
    "name": "ipython",
    "version": 3
   },
   "file_extension": ".py",
   "mimetype": "text/x-python",
   "name": "python",
   "nbconvert_exporter": "python",
   "pygments_lexer": "ipython3",
   "version": "3.12.11"
  }
 },
 "nbformat": 4,
 "nbformat_minor": 5
}
