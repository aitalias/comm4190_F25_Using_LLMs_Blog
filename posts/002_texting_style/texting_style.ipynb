{
 "cells": [
  {
   "cell_type": "raw",
   "id": "8ab7ee35-77e3-4e79-9530-82696a537b33",
   "metadata": {},
   "source": [
    "---\n",
    "title: \"Wait... Am I Talking to AI\"\n",
    "description: \"Can AI Match Your Texting Style\" \n",
    "author: \"Aitalia Sharpe\"\n",
    "date: \"9/10/2025\"\n",
    "categories:\n",
    "  - LLMs\n",
    "  - Learning\n",
    "---"
   ]
  },
  {
   "cell_type": "markdown",
   "id": "e1b45994-f792-4d54-b2a6-564335344fd3",
   "metadata": {},
   "source": [
    "I recently had a friend tell me about her boyfriend's startup that is working to create an AI system that can match a user's texting style through voice typing. While most phones already come with a voice typing feature, they are programmed to always type in American English; however, most people text using shorthand, slang, and capitalization for emphasis, which voice typing does not currently recognize. They aim to program AI so that it can recognize those patterns in a person's typing patterns, so that when they use voice messaging, it will produce messages that match that person's texting style. This piqued my interest in AI's current ability to recognize and match texting patterns. I therefore provided AI with screenshots of some of my text conversations to see if AI could respond to a prompt using the same logic and communication style as the person I was texting."
   ]
  },
  {
   "cell_type": "markdown",
   "id": "e8957478-0021-4a46-87ec-d393d42f6d05",
   "metadata": {},
   "source": [
    "![](ss_002_1.png)"
   ]
  },
  {
   "cell_type": "markdown",
   "id": "1dc1cc33-d1da-453c-a214-dcf861e36594",
   "metadata": {},
   "source": [
    "I was surprised to see that the AI would not attempt to mimic the style. I found the language most interesting: \"I'm uncomfortable...This could feel like I'm impersonating...\". The response has a level of sentience that makes AI seem also personable rather than an objective mechanical program. With all of the conversation about the ethical implications of AI, it's ironic that AI's response to this prompt communicates ethical misalignment with the request, despite being successful at recognizing the logic and communication patterns and declaring itself capable of imitating them when prompted."
   ]
  }
 ],
 "metadata": {
  "kernelspec": {
   "display_name": "Python 3-12 (COMM4190)",
   "language": "python",
   "name": "python3-12_comm4190"
  },
  "language_info": {
   "codemirror_mode": {
    "name": "ipython",
    "version": 3
   },
   "file_extension": ".py",
   "mimetype": "text/x-python",
   "name": "python",
   "nbconvert_exporter": "python",
   "pygments_lexer": "ipython3",
   "version": "3.12.11"
  }
 },
 "nbformat": 4,
 "nbformat_minor": 5
}
